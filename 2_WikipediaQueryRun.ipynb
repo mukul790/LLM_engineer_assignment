{
 "cells": [
  {
   "cell_type": "markdown",
   "id": "3d978346",
   "metadata": {},
   "source": [
    "Question 2: Implement WikipediaQueryRun tool from LangChain and search for Generative artificial intelligence and obtain the content of the page"
   ]
  },
  {
   "cell_type": "code",
   "execution_count": 9,
   "id": "1f36a8e0",
   "metadata": {},
   "outputs": [],
   "source": [
    "!pip install wikipedia langchain_community"
   ]
  },
  {
   "cell_type": "code",
   "execution_count": 5,
   "id": "8b466314",
   "metadata": {},
   "outputs": [],
   "source": [
    "from langchain_community.document_loaders import WikipediaLoader"
   ]
  },
  {
   "cell_type": "code",
   "execution_count": 11,
   "id": "93dcba56",
   "metadata": {},
   "outputs": [
    {
     "data": {
      "text/plain": [
       "1"
      ]
     },
     "execution_count": 11,
     "metadata": {},
     "output_type": "execute_result"
    }
   ],
   "source": [
    "docs = WikipediaLoader(query=\"Generative Artificial Intelligence\", load_max_docs=1).load()\n",
    "docs"
   ]
  },
  {
   "cell_type": "code",
   "execution_count": 18,
   "id": "5286169b",
   "metadata": {},
   "outputs": [
    {
     "data": {
      "text/plain": [
       "{'title': 'Generative artificial intelligence',\n",
       " 'summary': 'Generative artificial intelligence (generative AI, GenAI, or GAI) is artificial intelligence capable of generating text, images, videos, or other data using generative models, often in response to prompts. Generative AI models learn the patterns and structure of their input training data and then generate new data that has similar characteristics.\\nImprovements in transformer-based deep neural networks, particularly large language models (LLMs), enabled an AI boom of generative AI systems in the early 2020s. These include chatbots such as ChatGPT, Copilot, Gemini and LLaMA, text-to-image artificial intelligence image generation systems such as Stable Diffusion, Midjourney and DALL-E, and text-to-video AI generators such as Sora. Companies such as OpenAI, Anthropic, Microsoft, Google, and Baidu as well as numerous smaller firms have developed generative AI models.\\nGenerative AI has uses across a wide range of industries, including software development, healthcare, finance, entertainment, customer service, sales and marketing, art, writing, fashion, and product design. However, concerns have been raised about the potential misuse of generative AI such as cybercrime, the use of fake news or deepfakes to deceive or manipulate people, and the mass replacement of human jobs.',\n",
       " 'source': 'https://en.wikipedia.org/wiki/Generative_artificial_intelligence'}"
      ]
     },
     "execution_count": 18,
     "metadata": {},
     "output_type": "execute_result"
    }
   ],
   "source": [
    "#meta information\n",
    "docs[0].metadata  "
   ]
  },
  {
   "cell_type": "code",
   "execution_count": 22,
   "id": "76a19668",
   "metadata": {},
   "outputs": [
    {
     "name": "stdout",
     "output_type": "stream",
     "text": [
      "Generative artificial intelligence (generative AI, GenAI, or GAI) is artificial intelligence capable of generating text, images, videos, or other data using generative models, often in response to prompts. Generative AI models learn the patterns and structure of their input training data and then generate new data that has similar characteristics.\n",
      "Improvements in transformer-based deep neural networks\n"
     ]
    }
   ],
   "source": [
    "excerpts = []\n",
    "for doc in docs:\n",
    "    excerpts.append(doc.page_content[:404])\n",
    "\n",
    "# Print the excerpt of the first document\n",
    "print(excerpts[0])"
   ]
  },
  {
   "cell_type": "code",
   "execution_count": null,
   "id": "e85b076f",
   "metadata": {},
   "outputs": [],
   "source": []
  }
 ],
 "metadata": {
  "kernelspec": {
   "display_name": "Python 3 (ipykernel)",
   "language": "python",
   "name": "python3"
  },
  "language_info": {
   "codemirror_mode": {
    "name": "ipython",
    "version": 3
   },
   "file_extension": ".py",
   "mimetype": "text/x-python",
   "name": "python",
   "nbconvert_exporter": "python",
   "pygments_lexer": "ipython3",
   "version": "3.11.4"
  }
 },
 "nbformat": 4,
 "nbformat_minor": 5
}
